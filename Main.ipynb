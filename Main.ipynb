{
  "cells": [
    {
      "cell_type": "markdown",
      "metadata": {
        "id": "0yQ0yJstRqic"
      },
      "source": [
        "# Loading models"
      ]
    },
    {
      "cell_type": "code",
      "execution_count": null,
      "metadata": {
        "id": "w4CN4mRzRqif"
      },
      "outputs": [],
      "source": [
        "import torchvision\n",
        "import torch\n",
        "import torchvision\n",
        "from torch2trt import TRTModule\n",
        "import time"
      ]
    },
    {
      "cell_type": "code",
      "execution_count": null,
      "metadata": {
        "id": "qc6iIZ1ZRqih"
      },
      "outputs": [],
      "source": [
        "device = torch.device('cuda')\n",
        "\n",
        "road_following_model = TRTModule()\n",
        "road_following_model.load_state_dict(torch.load('models/road_following_model_trt.pth'))\n",
        "\n",
        "#\n",
        "\n",
        "block_free_model = TRTModule()\n",
        "block_free_model.load_state_dict(torch.load('models/block_free_model_trt.pth'))\n",
        "\n",
        "#\n",
        "\n",
        "LR_model_trt = TRTModule()\n",
        "LR_model_trt.load_state_dict(torch.load('models/LR_best_model_trt.pth'))"
      ]
    },
    {
      "cell_type": "markdown",
      "metadata": {
        "id": "YJL-qbQlRqii"
      },
      "source": [
        "# Camera init"
      ]
    },
    {
      "cell_type": "code",
      "execution_count": null,
      "metadata": {
        "id": "9wgE8LmLRqij"
      },
      "outputs": [],
      "source": [
        "import torchvision.transforms as transforms\n",
        "import torch.nn.functional as F\n",
        "import cv2\n",
        "import PIL.Image\n",
        "import numpy as np\n",
        "\n",
        "from jetbot import Camera, bgr8_to_jpeg\n",
        "\n",
        "camera = Camera.instance(fps=10)\n",
        "is_camera_control = True"
      ]
    },
    {
      "cell_type": "markdown",
      "metadata": {
        "id": "1F265VzzRqij"
      },
      "source": [
        "# Linking display (for debugging)"
      ]
    },
    {
      "cell_type": "code",
      "execution_count": null,
      "metadata": {
        "id": "jFdtHqqcRqik"
      },
      "outputs": [],
      "source": [
        "from IPython.display import display\n",
        "import ipywidgets\n",
        "import traitlets\n",
        "\n",
        "image_widget = ipywidgets.Image()\n",
        "\n",
        "traitlets.dlink((camera, 'value'), (image_widget, 'value'), transform=bgr8_to_jpeg)\n",
        "\n",
        "display(image_widget)"
      ]
    },
    {
      "cell_type": "markdown",
      "metadata": {
        "id": "3QFBFThfRqim"
      },
      "source": [
        "# Face detect and mosaic"
      ]
    },
    {
      "cell_type": "code",
      "execution_count": null,
      "metadata": {
        "id": "U6fwMww-Rqin"
      },
      "outputs": [],
      "source": [
        "width = 224\n",
        "height = 224\n",
        "fps = 10\n",
        "\n",
        "fcc = cv2.VideoWriter_fourcc('M', 'J', 'P', 'G')\n",
        "out = cv2.VideoWriter('webcam.avi', fcc, fps, (width, height))"
      ]
    },
    {
      "cell_type": "code",
      "execution_count": null,
      "metadata": {
        "id": "_ZNlIwtORqin"
      },
      "outputs": [],
      "source": [
        "import os\n",
        "\n",
        "face_cascade = cv2.CascadeClassifier('models/haarcascade_frontalface_default.xml')\n",
        "count = 0\n",
        "\n",
        "rate = 15\n",
        "\n",
        "def face_detect(ndarray_image):\n",
        "    #input should be unnormalized images. (Ndarray)    \n",
        "    \n",
        "    image = ndarray_image    \n",
        "    faces = face_cascade.detectMultiScale(cv2.cvtColor(image,cv2.COLOR_BGR2GRAY),1.3,5)   \n",
        "    global count\n",
        "    \n",
        "    for (x,y,w,h) in faces:\n",
        "        \n",
        "        if (w or h) == 0: #if nothing found or garbage\n",
        "            return image\n",
        "        \n",
        "        cv2.rectangle(image,(x,y),(x+w,y+h),(255,0,0),2)\n",
        "        \n",
        "        roi = image[y:y+h, x:x+w]\n",
        "\n",
        "        #making picture mosaic\n",
        "        roi = cv2.resize(roi, (w//rate, h//rate))\n",
        "        roi = cv2.resize(roi, (w, h), interpolation=cv2.INTER_AREA)\n",
        "\n",
        "        image[y:y+h, x:x+w] = roi\n",
        "        \n",
        "    return image"
      ]
    },
    {
      "cell_type": "markdown",
      "metadata": {
        "id": "miHdOleTRqio"
      },
      "source": [
        "# Image preprocessing (Ndarray to Tensor(half))"
      ]
    },
    {
      "cell_type": "code",
      "execution_count": null,
      "metadata": {
        "id": "8eF6jl09Rqio"
      },
      "outputs": [],
      "source": [
        "def preprocess(image):\n",
        "    \n",
        "    mean = torch.Tensor([0.485, 0.456, 0.406]).cuda().half()\n",
        "    std = torch.Tensor([0.229, 0.224, 0.225]).cuda().half()\n",
        "    \n",
        "    image = PIL.Image.fromarray(image)\n",
        "    image = transforms.functional.to_tensor(image).to(device).half()\n",
        "    image.sub_(mean[:, None, None]).div_(std[:, None, None])\n",
        "    return image[None, ...]"
      ]
    },
    {
      "cell_type": "markdown",
      "metadata": {
        "id": "HiWX71gaRqip"
      },
      "source": [
        "# Road following / block_free functions"
      ]
    },
    {
      "cell_type": "code",
      "execution_count": null,
      "metadata": {
        "id": "EkBzjWUPRqip"
      },
      "outputs": [],
      "source": [
        "def road_following(processed_image):\n",
        "    global angle, angle_last\n",
        "    \n",
        "    xy = road_following_model(processed_image).detach().float().cpu().numpy().flatten()\n",
        "    x = xy[0]\n",
        "    y = (0.5 - xy[1]) / 2.0\n",
        "    \n",
        "    #jetbot_spped = speed_gain_slider.value\n",
        "    jetbot_spped = 0.20\n",
        "    \n",
        "    angle = np.arctan2(x, y)\n",
        "#     pid = angle * steering_gain_slider.value + (angle - angle_last) * steering_dgain_slider.value\n",
        "    pid = angle * 0.05 + (angle - angle_last) * 0.00\n",
        "    angle_last = angle\n",
        "    \n",
        "#     steer_bias = pid + steering_bias_slider.value\n",
        "    steer_bias = pid + 0.0\n",
        "    \n",
        "    robot.left_motor.value = max(min(jetbot_spped + steer_bias, 1.0), 0.0)\n",
        "    robot.right_motor.value = max(min(jetbot_spped - steer_bias, 1.0), 0.0)"
      ]
    },
    {
      "cell_type": "code",
      "execution_count": null,
      "metadata": {
        "id": "1dXFa2l5Rqip"
      },
      "outputs": [],
      "source": [
        "def block_free_detect(processed_image):\n",
        "    global is_camera_control\n",
        "    \n",
        "    bf_detection = block_free_model(processed_image)\n",
        "    bf_detection = F.softmax(bf_detection, dim=1)\n",
        "    \n",
        "    prob_blocked = float(bf_detection.flatten()[0])\n",
        "    \n",
        "    if prob_blocked < 0.6: \n",
        "      road_following(processed_image)\n",
        "    \n",
        "    else:        \n",
        "      is_camera_control = False\n",
        "      robot.set_motors(0.1, 0.1)\n",
        "      left_right_detect(processed_image)"
      ]
    },
    {
      "cell_type": "code",
      "execution_count": null,
      "metadata": {
        "id": "t5fLLRldRqiq"
      },
      "outputs": [],
      "source": [
        "LR_list = []\n",
        "def left_right_detect(processed_image):\n",
        "    lr_detection = LR_model_trt(processed_image)\n",
        "    lr_detection = F.softmax(lr_detection, dim=1)\n",
        "    \n",
        "    prob_right = float(lr_detection.flatten()[0])\n",
        "    \n",
        "    if prob_right < 0.5:\n",
        "        #right     \n",
        "        if len(LR_list) <3: #indeterminable\n",
        "            LR_list.append('R')\n",
        "    else:\n",
        "        #left\n",
        "        \n",
        "        if len(LR_list) <3: #indeterminable\n",
        "            LR_list.append('L')\n",
        "    \n",
        "    if len(LR_list) == 3 :\n",
        "        result = max(LR_list, key=LR_list.count)\n",
        "        \n",
        "        if result == 'L':\n",
        "            left_avoidance()\n",
        "        elif result == 'R':\n",
        "            right_avoidance()"
      ]
    },
    {
      "cell_type": "markdown",
      "metadata": {
        "id": "RprI5c8iRqir"
      },
      "source": [
        "# Avoidance function"
      ]
    },
    {
      "cell_type": "code",
      "execution_count": null,
      "metadata": {
        "id": "EwFBltmQRqir"
      },
      "outputs": [],
      "source": [
        "def left_avoidance():\n",
        "    robospeed = 0.14\n",
        "    robot.left(0.185)\n",
        "    time.sleep(0.5)\n",
        "    \n",
        "    while robospeed > 0.12:\n",
        "        robospeed = robospeed - 0.001\n",
        "        robot.set_motors(0.19, robospeed)\n",
        "        time.sleep(0.15)\n",
        "\n",
        "    \n",
        "    robot.set_motors(0, 0)\n",
        "    \n",
        "    LR_list.clear() #list clear\n",
        "    \n",
        "\n",
        "def right_avoidance():\n",
        "    robospeed = 0.14\n",
        "    robot.right(0.185)\n",
        "    time.sleep(0.5)\n",
        "    \n",
        "    while robospeed > 0.12:\n",
        "        robospeed = robospeed - 0.001\n",
        "        robot.set_motors(robospeed, 0.16)\n",
        "        time.sleep(0.15)\n",
        "\n",
        "    \n",
        "    robot.set_motors(0, 0)\n",
        "    \n",
        "    LR_list.clear() #list clear"
      ]
    },
    {
      "cell_type": "markdown",
      "metadata": {
        "id": "4Kf7Ze2GRqir"
      },
      "source": [
        "# Main excute"
      ]
    },
    {
      "cell_type": "code",
      "execution_count": null,
      "metadata": {
        "id": "ACXQhQRCRqis"
      },
      "outputs": [],
      "source": [
        "from jetbot import Robot\n",
        "\n",
        "robot = Robot()"
      ]
    },
    {
      "cell_type": "code",
      "execution_count": null,
      "metadata": {
        "id": "CuIWwGBKRqis"
      },
      "outputs": [],
      "source": [
        "angle = 0.0\n",
        "angle_last = 0.0\n",
        "count = 10\n",
        "def execute(change):\n",
        "    global is_camera_control,count\n",
        "    #change['new'] is ndarray.\n",
        "    image = change['new']\n",
        "    \n",
        "    frame = face_detect(image)\n",
        "    out.write(frame)\n",
        "    \n",
        "    if is_camera_control:\n",
        "        block_free_detect(preprocess(image))\n",
        "        count = 10\n",
        "    else:\n",
        "        count-=1\n",
        "        if count==0:\n",
        "            is_camera_control = True\n",
        "        \n",
        "execute({'new': camera.value})"
      ]
    },
    {
      "cell_type": "markdown",
      "metadata": {
        "id": "4qkC7LumRqis"
      },
      "source": [
        "# Passing camera images to excute function"
      ]
    },
    {
      "cell_type": "code",
      "execution_count": null,
      "metadata": {
        "id": "65Lb4guxRqis"
      },
      "outputs": [],
      "source": [
        "camera.observe(execute, names='value')"
      ]
    },
    {
      "cell_type": "markdown",
      "metadata": {
        "id": "xpS4fyRZRqit"
      },
      "source": [
        "# Execute finish"
      ]
    },
    {
      "cell_type": "code",
      "execution_count": null,
      "metadata": {
        "id": "XZjcXjNPRqit"
      },
      "outputs": [],
      "source": [
        "out.release()\n",
        "camera.unobserve(execute, names='value')\n",
        "time.sleep(0.1)  # add a small sleep to make sure frames have finished processing\n",
        "robot.stop()\n",
        "camera.stop()"
      ]
    }
  ],
  "metadata": {
    "kernelspec": {
      "display_name": "Python 3",
      "language": "python",
      "name": "python3"
    },
    "language_info": {
      "codemirror_mode": {
        "name": "ipython",
        "version": 3
      },
      "file_extension": ".py",
      "mimetype": "text/x-python",
      "name": "python",
      "nbconvert_exporter": "python",
      "pygments_lexer": "ipython3",
      "version": "3.6.9"
    },
    "colab": {
      "name": "Main.ipynb",
      "provenance": [],
      "collapsed_sections": []
    }
  },
  "nbformat": 4,
  "nbformat_minor": 0
}